{
 "cells": [
  {
   "cell_type": "markdown",
   "metadata": {},
   "source": [
    "## Exercises"
   ]
  },
  {
   "cell_type": "markdown",
   "metadata": {},
   "source": [
    "### Exercise 2.4\n",
    "__Question__: If the step-size parameters, α(n) , are not constant, then the estimate Q(n) is a weighted\n",
    "average of previously received rewards with a weighting different from that given by (2.6). What is\n",
    "the weighting on each prior reward for the general case, analogous to (2.6), in terms of the sequence of\n",
    "step-size parameters?"
   ]
  },
  {
   "cell_type": "markdown",
   "metadata": {},
   "source": [
    "__Solution__: The essence of (2.6) is that the step parameter behaves as a discounting factor where α(n) = α. In detail, the weight given to a certain reward decays exponentially. This can be also mathematically expressed in non-constant case as:\n",
    "\n",
    "\\begin{equation*}\n",
    "  Q_1\\prod_{i=1}^{n} (1 - a(i)) + \\sum_{i=1}^{n} a(i)R_i\\prod_{j=1}^{i}(1-a(n-j)) \n",
    "\\end{equation*} \n",
    "\n",
    "which is generalization over (2.6)."
   ]
  },
  {
   "cell_type": "markdown",
   "metadata": {},
   "source": [
    "### Exercise 2.5"
   ]
  },
  {
   "cell_type": "code",
   "execution_count": 10,
   "metadata": {},
   "outputs": [],
   "source": [
    "import numpy as np\n",
    "\n",
    "%reload_ext autoreload\n",
    "%autoreload 2\n",
    "np.random.seed(10)\n",
    "\n",
    "class BanditEnv(object):\n",
    "    def __init__(self,num_arms = 10, mean = 0,stddev = 1):\n",
    "        self.num_arms = num_arms\n",
    "        self.actions = np.arange(num_arms)\n",
    "        \n",
    "        self.q_star = np.repeat(np.random.normal(loc=mean,scale=stddev,size=1),10) # Start out all equal\n",
    "        self.optimal_action = np.argmax(self.q_star)\n",
    "        self.stddev = stddev\n",
    "        \n",
    "    def reward(self,action):\n",
    "        return np.random.normal(loc = self.q_star[action],scale = self.stddev)\n",
    "    def random_walk(self):\n",
    "        self.q_star += np.random.normal(loc=0,scale=0.01,size=self.q_star.shape[0])"
   ]
  },
  {
   "cell_type": "code",
   "execution_count": 11,
   "metadata": {},
   "outputs": [],
   "source": [
    "class Agent(object):\n",
    "    def __init__(self,env,epsilon=0.1,alpha=None):\n",
    "        self.env = env\n",
    "        self.q = np.repeat(0.,env.actions.shape[0])\n",
    "        self.pull_count = np.repeat(0,env.actions.shape[0])\n",
    "        self.epsilon = epsilon\n",
    "        self.reward_history = []\n",
    "        self.action_history = []\n",
    "        self.alpha = alpha\n",
    "        \n",
    "    def inc_update_q(self,action):\n",
    "        reward = self.env.reward(action)\n",
    "        self.pull_count[action] += 1\n",
    "        if self.alpha is None:\n",
    "            self.alpha = 1.0/self.pull_count[action]\n",
    "        self.q[action] +=  self.alpha * (reward - self.q[action])\n",
    "        self.reward_history.append(reward)\n",
    "        self.action_history.append(action)\n",
    "        \n",
    "    def pi(self):\n",
    "        # return an action based on defined policy, when epsilon == 0, it's a greedy policy\n",
    "        if np.random.random() >= self.epsilon:\n",
    "            return np.argmax(self.q)\n",
    "        else:\n",
    "            return np.random.choice(self.env.actions)    \n",
    "    def init_q(self, rounds=1):\n",
    "        \"\"\"Initialize q by pulling each arm a few times\"\"\"\n",
    "        for _ in range(rounds):\n",
    "            for action in self.env.actions:\n",
    "                self.inc_update_q(action)\n",
    "    def step(self, action=None):\n",
    "        if action is None:\n",
    "            action = self.pi()\n",
    "        self.inc_update_q(action)\n",
    "        self.env.random_walk()\n",
    "        \n",
    "    def compute_value_history(self):\n",
    "        \"\"\"calculate value_history based on reward_history, undiscounted\"\"\"\n",
    "        return np.cumsum(self.reward_history) / (np.arange(len(self.reward_history)) + 1)\n",
    "    def compute_frac_optim_action_history(self):\n",
    "        optimal_action = np.argmax(self.env.q_star)\n",
    "        act_hist = np.array(self.action_history)\n",
    "        frac_hist = []\n",
    "        for i in np.arange(act_hist.shape[0]) + 1:\n",
    "            sub_hist = act_hist[:i]\n",
    "            mask = sub_hist == optimal_action\n",
    "            frac = sub_hist[mask].shape[0] / i\n",
    "            frac_hist.append(frac)\n",
    "        return frac_hist"
   ]
  },
  {
   "cell_type": "code",
   "execution_count": 12,
   "metadata": {},
   "outputs": [
    {
     "data": {
      "text/plain": [
       "Text(0,0.5,'% optimal actions')"
      ]
     },
     "execution_count": 12,
     "metadata": {},
     "output_type": "execute_result"
    },
    {
     "data": {
      "image/png": "[encoded data removed]",
      "text/plain": [
       "<Figure size 720x432 with 2 Axes>"
      ]
     },
     "metadata": {
      "needs_background": "light"
     },
     "output_type": "display_data"
    }
   ],
   "source": [
    "num_repeats = 100\n",
    "num_steps = 10000\n",
    "val_hist_list = []\n",
    "frac_hist_list = []\n",
    "bandit = BanditEnv()\n",
    "for _ in range(num_repeats):\n",
    "    ag = Agent(env=bandit)\n",
    "    ag.init_q()\n",
    "    \n",
    "    for i in range(num_steps):\n",
    "        ag.step()\n",
    "    val_hist_list.append(ag.compute_value_history()) # append value history of each run.\n",
    "    frac_hist_list.append(ag.compute_frac_optim_action_history())\n",
    "val_hist_arr = np.array(val_hist_list)\n",
    "frac_hist_arr = np.array(frac_hist_list)\n",
    "import matplotlib.pyplot as plt\n",
    "\n",
    "value_history_mean = val_hist_arr.mean(axis=0)\n",
    "steps = np.arange(len(value_history_mean))\n",
    "plt.figure(figsize=(10, 6))\n",
    "plt.subplot(221)\n",
    "plt.plot(steps, value_history_mean, color='red', lw=1.5, label='epsilon = 0.1')\n",
    "plt.legend(loc='best')\n",
    "plt.grid()\n",
    "plt.xlabel('# steps')\n",
    "plt.ylabel('Average reward over past steps - Sample Averages')\n",
    "plt.subplot(222)\n",
    "frac_history_mean = frac_hist_arr.mean(axis = 0)\n",
    "steps = np.arange(len(frac_history_mean))\n",
    "plt.plot(steps,frac_history_mean,color='green',lw=1.5,label='epsilon = 0.1')\n",
    "plt.legend(loc='best')\n",
    "plt.grid()\n",
    "plt.xlabel('# steps')\n",
    "plt.ylabel('% optimal actions')"
   ]
  },
  {
   "cell_type": "markdown",
   "metadata": {},
   "source": [
    "As explained in textbook, sample averages method suffers from its convergent nature, thus performs suboptimally wrt constant step size below."
   ]
  },
  {
   "cell_type": "code",
   "execution_count": 13,
   "metadata": {},
   "outputs": [
    {
     "data": {
      "text/plain": [
       "Text(0,0.5,'% optimal actions')"
      ]
     },
     "execution_count": 13,
     "metadata": {},
     "output_type": "execute_result"
    },
    {
     "data": {
      "image/png": "[encoded data removed]",
      "text/plain": [
       "<Figure size 720x432 with 2 Axes>"
      ]
     },
     "metadata": {
      "needs_background": "light"
     },
     "output_type": "display_data"
    }
   ],
   "source": [
    "num_repeats = 100\n",
    "num_steps = 10000\n",
    "val_hist_list = []\n",
    "bandit = BanditEnv()\n",
    "for _ in range(num_repeats):\n",
    "    ag = Agent(env=bandit,alpha=0.1)\n",
    "    ag.init_q()\n",
    "    \n",
    "    for i in range(num_steps):\n",
    "        ag.step()\n",
    "    val_hist_list.append(ag.compute_value_history()) # append value history of each run.\n",
    "    frac_hist_list.append(ag.compute_frac_optim_action_history())\n",
    "val_hist_arr = np.array(val_hist_list)\n",
    "frac_hist_arr = np.array(frac_hist_list)\n",
    "import matplotlib.pyplot as plt\n",
    "\n",
    "value_history_mean = val_hist_arr.mean(axis=0)\n",
    "steps = np.arange(len(value_history_mean))\n",
    "plt.figure(figsize=(10, 6))\n",
    "plt.subplot(221)\n",
    "plt.plot(steps, value_history_mean, color='blue', lw=1.5, label='epsilon = 0.1')\n",
    "plt.legend(loc='best')\n",
    "plt.grid()\n",
    "plt.xlabel('# steps')\n",
    "plt.ylabel('Average reward over past steps - constant step size')\n",
    "\n",
    "frac_history_mean = frac_hist_arr.mean(axis = 0)\n",
    "steps = np.arange(len(frac_history_mean))\n",
    "plt.subplot(222)\n",
    "plt.plot(steps,frac_history_mean,color='green',lw=1.5,label='epsilon = 0.1')\n",
    "plt.legend(loc='best')\n",
    "plt.grid()\n",
    "plt.xlabel('# steps')\n",
    "plt.ylabel('% optimal actions')"
   ]
  },
  {
   "cell_type": "markdown",
   "metadata": {},
   "source": [
    "It is obvious from the resulting mean rewards that constant step size handles better the case of non-stationary data in which optimal action-values change in time."
   ]
  },
  {
   "cell_type": "code",
   "execution_count": null,
   "metadata": {},
   "outputs": [],
   "source": []
  }
 ],
 "metadata": {
  "kernelspec": {
   "display_name": "Python 3",
   "language": "python",
   "name": "python3"
  },
  "language_info": {
   "codemirror_mode": {
    "name": "ipython",
    "version": 3
   },
   "file_extension": ".py",
   "mimetype": "text/x-python",
   "name": "python",
   "nbconvert_exporter": "python",
   "pygments_lexer": "ipython3",
   "version": "3.6.7"
  }
 },
 "nbformat": 4,
 "nbformat_minor": 2
}

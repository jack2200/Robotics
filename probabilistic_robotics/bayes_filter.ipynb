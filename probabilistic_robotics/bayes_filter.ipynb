{
 "cells": [
  {
   "cell_type": "code",
   "execution_count": 1,
   "metadata": {},
   "outputs": [
    {
     "name": "stdout",
     "output_type": "stream",
     "text": [
      "[0.9 0.1]\n",
      "CPU times: user 62.8 ms, sys: 69.4 ms, total: 132 ms\n",
      "Wall time: 49.6 ms\n"
     ]
    }
   ],
   "source": [
    "%%time\n",
    "import numpy as np\n",
    "\n",
    "def cond_prob(x,action,x_):\n",
    "    if action == \"push\":\n",
    "        if x_ == 0:\n",
    "            return 1-x\n",
    "        else:\n",
    "            return measurement_model[x][1-x_]\n",
    "    else:\n",
    "        if x == x_:\n",
    "            return 1\n",
    "        else:\n",
    "            return 0\n",
    "\n",
    "def bayes_filter_update(beliefs,control,measurement,model):\n",
    "\tpredictions = np.zeros(np.size(beliefs))\n",
    "\tfor i in range(len(beliefs)):\n",
    "\t\tfor j in range(len(beliefs)):\n",
    "\t\t\tpredictions[i] += cond_prob(i,control,j) * beliefs[j]\n",
    "\t\n",
    "\tbeliefs = model[:,measurement]*predictions\n",
    "\tbeliefs /= np.sum(beliefs) \n",
    "\treturn beliefs\n",
    "\n",
    "measurement_model = np.array([[0.6, 0.4],[0.2,0.8]])\n",
    "beliefs = np.array([0.5,0.5])\n",
    "\n",
    "beliefs = bayes_filter_update(beliefs,\"do_nothing\",0,measurement_model)\n",
    "beliefs = bayes_filter_update(beliefs,\"push\",1,measurement_model)\n",
    "\n",
    "print(beliefs)"
   ]
  },
  {
   "cell_type": "code",
   "execution_count": null,
   "metadata": {},
   "outputs": [],
   "source": []
  }
 ],
 "metadata": {
  "kernelspec": {
   "display_name": "Python 3",
   "language": "python",
   "name": "python3"
  },
  "language_info": {
   "codemirror_mode": {
    "name": "ipython",
    "version": 3
   },
   "file_extension": ".py",
   "mimetype": "text/x-python",
   "name": "python",
   "nbconvert_exporter": "python",
   "pygments_lexer": "ipython3",
   "version": "3.6.7"
  }
 },
 "nbformat": 4,
 "nbformat_minor": 2
}
